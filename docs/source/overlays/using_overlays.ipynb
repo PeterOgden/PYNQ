{
 "cells": [
  {
   "cell_type": "markdown",
   "metadata": {},
   "source": [
    "# Using Overlays\n",
    "\n",
    "By default, the *base* overlay is loaded at boot time. New overlays can be loaded as the system is running. The PYNQ ``Overlay`` class is used to load an overlay. Once the Overlay class is imported, the overlay can be instantiated by specifying the name of the bitstream:"
   ]
  },
  {
   "cell_type": "code",
   "execution_count": 13,
   "metadata": {
    "collapsed": true
   },
   "outputs": [],
   "source": [
    "from pynq import Overlay\n",
    "baseOverlay = Overlay(\"base.bit\")"
   ]
  },
  {
   "cell_type": "markdown",
   "metadata": {},
   "source": [
    "Creating the overlay instance, will also download the bitstream to the Zynq PL.\n",
    "\n",
    "Once an overlay has been loaded, a Python API for the overlay can be used to interact with the overlay.\n",
    "\n",
    "To discover what is in an overlay, the ``help()`` method can be run on the overlay instance."
   ]
  },
  {
   "cell_type": "code",
   "execution_count": 14,
   "metadata": {},
   "outputs": [
    {
     "name": "stdout",
     "output_type": "stream",
     "text": [
      "Help on BaseOverlay object:\n",
      "\n",
      "class BaseOverlay(pynq.overlay.DefaultOverlay)\n",
      " |  The Base overlay for the Pynq-Z1\n",
      " |  \n",
      " |  This overlay is designed to interact with all of the on board peripherals\n",
      " |  and external interfaces of the Pynq-Z1 board. It exposes the following\n",
      " |  attributes:\n",
      " |  \n",
      " |  Attributes\n",
      " |  ----------\n",
      " |  pmoda : IOP\n",
      " |       IO processor connected to the PMODA interface\n",
      " |  pmodb : IOP\n",
      " |       IO processor connected to the PMODB interface\n",
      " |  arduino : IOP\n",
      " |       IO processor connected to the Arduino/ChipKit interface\n",
      " |  leds : AxiGPIO\n",
      " |       4-bit output GPIO for interacting with the green LEDs LD0-3\n",
      " |  buttons : AxiGPIO\n",
      " |       4-bit input GPIO for interacting with the buttons BTN0-3\n",
      " |  switches : AxiGPIO\n",
      " |       2-bit input GPIO for interacting with the switches SW0 and SW1\n",
      " |  rgbleds : [pynq.board.RGBLED]\n",
      " |       Wrapper for GPIO for LD4 and LD5 multicolour LEDs\n",
      " |  video : pynq.lib.video.HDMIWrapper\n",
      " |       HDMI input and output interfaces\n",
      " |  audio : pynq.lib.audio.Audio\n",
      " |       Headphone jack and on-board microphone\n",
      "\n"
     ]
    }
   ],
   "source": [
    "help(baseOverlay)"
   ]
  },
  {
   "cell_type": "markdown",
   "metadata": {},
   "source": [
    "This will give a lists of the IP and methods available as part of the overlay."
   ]
  },
  {
   "cell_type": "markdown",
   "metadata": {},
   "source": [
    "## Using IP in an overlay"
   ]
  },
  {
   "cell_type": "markdown",
   "metadata": {},
   "source": [
    "From the ``help()`` print out above, it can be seen that the base overlay includes an ``leds`` instance. ``help()`` reports that this is an AxiGPIO class:"
   ]
  },
  {
   "cell_type": "markdown",
   "metadata": {},
   "source": [
    "leds : AxiGPIO\n",
    "\n",
    "     4-bit output GPIO for interacting with the green LEDs LD0-3"
   ]
  },
  {
   "cell_type": "markdown",
   "metadata": {},
   "source": [
    "Running help on the leds object will provide more information about the object, which in this case is the AXIGPIO class. "
   ]
  },
  {
   "cell_type": "code",
   "execution_count": null,
   "metadata": {},
   "outputs": [],
   "source": [
    "help(baseOverlay.leds)"
   ]
  },
  {
   "cell_type": "markdown",
   "metadata": {},
   "source": [
    "The AxiGPIO has a write() method that takes a value and a mask."
   ]
  },
  {
   "cell_type": "markdown",
   "metadata": {},
   "source": [
    "write(self, val, mask)\n",
    "    \n",
    "    Set the state of the output pins"
   ]
  },
  {
   "cell_type": "markdown",
   "metadata": {},
   "source": [
    "First set the direction if the channel. "
   ]
  },
  {
   "cell_type": "code",
   "execution_count": null,
   "metadata": {},
   "outputs": [],
   "source": [
    "baseOverlay.leds.setdirection('input')"
   ]
  },
  {
   "cell_type": "markdown",
   "metadata": {},
   "source": [
    "The LEDs can be turned on and off by writing an appropriate value:"
   ]
  },
  {
   "cell_type": "code",
   "execution_count": 15,
   "metadata": {
    "collapsed": true
   },
   "outputs": [],
   "source": [
    "baseOverlay.leds.write(1, 0xf) # Turn on LED 0"
   ]
  },
  {
   "cell_type": "code",
   "execution_count": 16,
   "metadata": {
    "collapsed": true
   },
   "outputs": [],
   "source": [
    "baseOverlay.leds.write(3, 0xf) # Turn on LED 0 and 1"
   ]
  },
  {
   "cell_type": "code",
   "execution_count": 17,
   "metadata": {
    "collapsed": true
   },
   "outputs": [],
   "source": [
    "baseOverlay.leds.write(4, 0xf) # Turn on LED 3"
   ]
  },
  {
   "cell_type": "markdown",
   "metadata": {},
   "source": [
    "Other objects in the overlay can be used in a similar way. Running help on the object instance will provide information on how to use it. "
   ]
  },
  {
   "cell_type": "code",
   "execution_count": 18,
   "metadata": {
    "scrolled": true
   },
   "outputs": [
    {
     "name": "stdout",
     "output_type": "stream",
     "text": [
      "Help on HDMIWrapper in module pynq.lib.video object:\n",
      "\n",
      "class HDMIWrapper(pynq.overlay.DefaultHierarchy)\n",
      " |  Hierarchy driver for the entire Pynq-Z1 video subsystem.\n",
      " |  \n",
      " |  Exposes the input, output and video DMA as attributes. For most\n",
      " |  use cases the wrappers for the input and output pipelines are\n",
      " |  sufficient and the VDMA will not need to be used directly.\n",
      " |  \n",
      " |  Attributes\n",
      " |  ----------\n",
      " |  hdmi_in : pynq.lib.video.HDMIIn\n",
      " |      The HDMI input pipeline\n",
      " |  hdmi_out : pynq.lib.video.HDMIOut\n",
      " |      The HDMI output pipeline\n",
      " |  axi_vdma : pynq.lib.video.AxiVDMA\n",
      " |      The video DMA.\n",
      " |  \n",
      " |  Method resolution order:\n",
      " |      HDMIWrapper\n",
      " |      pynq.overlay.DefaultHierarchy\n",
      " |      pynq.overlay._IPMap\n",
      " |      builtins.object\n",
      " |  \n",
      " |  Methods defined here:\n",
      " |  \n",
      " |  __init__(self, description)\n",
      " |      Create a new _IPMap based on a hierarchical description.\n",
      " |  \n",
      " |  ----------------------------------------------------------------------\n",
      " |  Static methods defined here:\n",
      " |  \n",
      " |  checkhierarchy(description)\n",
      " |      Function to check if the driver matches a particular hierarchy\n",
      " |      \n",
      " |      This function should be redefined in derived classes to return True\n",
      " |      if the description matches what is expected by the driver. The default\n",
      " |      implementation always returns False so that drivers that forget don't\n",
      " |      get loaded for hierarchies they don't expect.\n",
      "\n"
     ]
    }
   ],
   "source": [
    "help(baseOverlay.video)"
   ]
  }
 ],
 "metadata": {
  "kernelspec": {
   "display_name": "Python 3",
   "language": "python",
   "name": "python3"
  },
  "language_info": {
   "codemirror_mode": {
    "name": "ipython",
    "version": 3
   },
   "file_extension": ".py",
   "mimetype": "text/x-python",
   "name": "python",
   "nbconvert_exporter": "python",
   "pygments_lexer": "ipython3",
   "version": "3.6.0"
  }
 },
 "nbformat": 4,
 "nbformat_minor": 2
}
